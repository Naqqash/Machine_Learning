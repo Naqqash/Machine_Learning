{
 "cells": [
  {
   "cell_type": "code",
   "execution_count": 1,
   "metadata": {
    "collapsed": true
   },
   "outputs": [],
   "source": [
    "\n",
    "import pandas as pd\n",
    "import numpy as np\n",
    "import sklearn\n",
    "from sklearn.linear_model import LinearRegression"
   ]
  },
  {
   "cell_type": "code",
   "execution_count": 2,
   "metadata": {
    "collapsed": false
   },
   "outputs": [],
   "source": [
    "# Making sure that the features have proper data format\n",
    "dtype_dict = {'bathrooms':float, 'waterfront':int, 'sqft_above':int, 'sqft_living15':float, 'grade':int, 'yr_renovated':int, 'price':float, 'bedrooms':float, 'zipcode':str, 'long':float, 'sqft_lot15':float, 'sqft_living':float, 'floors':str, 'condition':int, 'lat':float, 'date':str, 'sqft_basement':int, 'yr_built':int, 'id':str, 'sqft_lot':int, 'view':int}\n",
    "\n",
    "# Reading the csv files using panda\n",
    "data_csv = pd.read_csv('kc_house_data.csv',dtype=dtype_dict)\n",
    "train_csv = pd.read_csv('kc_house_train_data.csv',dtype=dtype_dict)\n",
    "test_csv = pd.read_csv('kc_house_test_data.csv',dtype=dtype_dict)\n",
    "\n",
    "# Conversting the csv data to the dataframe and deleting the extra columns which are not relevant\n",
    "\n",
    "house_train = pd.DataFrame(train_csv)\n",
    "train_data = house_train.drop(['price','id','date'],axis=1)\n",
    "house_test = pd.DataFrame(test_csv)\n",
    "test_data  = house_test.drop(['price','id','date'],axis=1)"
   ]
  },
  {
   "cell_type": "markdown",
   "metadata": {},
   "source": [
    "# Creating a polynomial_dframe function \n",
    "\n",
    "Next we're going to write a polynomial function that takes an array and a maximal degree and returns an DataFrame with columns containing the array to all the powers up to the maximal degree.\n"
   ]
  },
  {
   "cell_type": "code",
   "execution_count": 3,
   "metadata": {
    "collapsed": true
   },
   "outputs": [],
   "source": [
    "def polynomial_dframe(feature, degree):\n",
    "    # assume that degree >= 1\n",
    "    # initialize the SFrame:\n",
    "    poly_dframe = pd.DataFrame()\n",
    "    # and set poly_sframe['power_1'] equal to the passed feature\n",
    "    poly_dframe['power_1'] = feature\n",
    "    # first check if degree > 1\n",
    "    if degree > 1:\n",
    "        # then loop over the remaining degrees:\n",
    "        # range usually starts at 0 and stops at the endpoint-1. We want it to start at 2 and stop at degree\n",
    "        for power in range(2, degree+1): \n",
    "            # first we'll give the column a name:\n",
    "            name = 'power_' + str(power)\n",
    "            # then assign poly_sframe[name] to the appropriate power of feature\n",
    "            poly_dframe[name] = feature**power\n",
    "\n",
    "    return poly_dframe\n",
    "    "
   ]
  },
  {
   "cell_type": "code",
   "execution_count": 4,
   "metadata": {
    "collapsed": false
   },
   "outputs": [
    {
     "name": "stdout",
     "output_type": "stream",
     "text": [
      "   power_1  power_2  power_3\n",
      "0      1.0      1.0      1.0\n",
      "1      2.0      4.0      8.0\n",
      "2      3.0      9.0     27.0\n"
     ]
    }
   ],
   "source": [
    "tmp = np.array([1.,2.,3.])\n",
    "print polynomial_dframe(tmp, 3)"
   ]
  },
  {
   "cell_type": "markdown",
   "metadata": {},
   "source": [
    "# Visualizing polynomial regression"
   ]
  },
  {
   "cell_type": "markdown",
   "metadata": {},
   "source": [
    "Let's use matplotlib to visualize what a polynomial regression looks like on some real data."
   ]
  },
  {
   "cell_type": "code",
   "execution_count": 5,
   "metadata": {
    "collapsed": false
   },
   "outputs": [
    {
     "name": "stdout",
     "output_type": "stream",
     "text": [
      "   power_1  estimatedCoeffecients\n",
      "0   1180.0              281.95884\n"
     ]
    },
    {
     "data": {
      "text/plain": [
       "[<matplotlib.lines.Line2D at 0x1090e588>,\n",
       " <matplotlib.lines.Line2D at 0x1090e5f8>]"
      ]
     },
     "execution_count": 5,
     "metadata": {},
     "output_type": "execute_result"
    },
    {
     "data": {
      "image/png": "[encoded data removed]",
      "text/plain": [
       "<matplotlib.figure.Figure at 0x107175c0>"
      ]
     },
     "metadata": {},
     "output_type": "display_data"
    }
   ],
   "source": [
    "## Calling polynomial function for the feature sqft_living with 1 order power\n",
    "\n",
    "poly1_data = polynomial_dframe(train_data.sqft_living, 1)\n",
    "\n",
    "# Training the model for the above dataframe \n",
    "\n",
    "model1 = LinearRegression()\n",
    "#fitting the model1 with the model_2_features data and the target is 'price'\n",
    "model1.fit(poly1_data[['power_1']],train_csv.price)\n",
    "\n",
    "#print the coeffecient of the learned model\n",
    "\n",
    "print pd.DataFrame(zip(poly1_data['power_1'],model1.coef_),columns=['power_1','estimatedCoeffecients'])\n",
    "\n",
    "import matplotlib.pyplot as plt\n",
    "%matplotlib inline\n",
    "plt.plot(poly1_data['power_1'],train_csv['price'],'.',\n",
    "        poly1_data['power_1'], model1.predict(poly1_data),'-')"
   ]
  },
  {
   "cell_type": "code",
   "execution_count": null,
   "metadata": {
    "collapsed": true
   },
   "outputs": [],
   "source": [
    "## Calling polynomial function for the feature sqft_living with 1 order power\n",
    "\n",
    "poly15_data = polynomial_dframe(train_data.sqft_living, 15)\n",
    "\n",
    "# Training the model for the above dataframe \n",
    "\n",
    "model15 = LinearRegression()\n",
    "#fitting the model1 with the model_2_features data and the target is 'price'\n",
    "model15.fit(poly15_data[['power_1']],train_csv.price)\n",
    "\n",
    "#print the coeffecient of the learned model\n",
    "\n",
    "print pd.DataFrame(zip(poly1_data['power_1'],model15.coef_),columns=['power_1','estimatedCoeffecients'])\n",
    "\n",
    "import matplotlib.pyplot as plt\n",
    "%matplotlib inline\n",
    "plt.plot(poly1_data['power_1'],train_csv['price'],'.',\n",
    "        poly1_data['power_1'], model1.predict(poly1_data),'-')"
   ]
  }
 ],
 "metadata": {
  "kernelspec": {
   "display_name": "Python 2",
   "language": "python",
   "name": "python2"
  },
  "language_info": {
   "codemirror_mode": {
    "name": "ipython",
    "version": 2
   },
   "file_extension": ".py",
   "mimetype": "text/x-python",
   "name": "python",
   "nbconvert_exporter": "python",
   "pygments_lexer": "ipython2",
   "version": "2.7.11"
  }
 },
 "nbformat": 4,
 "nbformat_minor": 0
}
