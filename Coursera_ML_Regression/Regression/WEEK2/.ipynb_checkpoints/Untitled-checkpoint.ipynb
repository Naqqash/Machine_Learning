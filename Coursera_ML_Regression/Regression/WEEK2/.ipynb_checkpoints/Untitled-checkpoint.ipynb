{
 "cells": [
  {
   "cell_type": "code",
   "execution_count": 1,
   "metadata": {
    "collapsed": true
   },
   "outputs": [],
   "source": [
    "import pandas as pd\n",
    "import numpy as np\n",
    "import sklearn\n",
    "from sklearn.linear_model import LinearRegression"
   ]
  },
  {
   "cell_type": "code",
   "execution_count": 2,
   "metadata": {
    "collapsed": true
   },
   "outputs": [],
   "source": [
    "# Making sure that the features have proper data format\n",
    "dtype_dict = {'bathrooms':float, 'waterfront':int, 'sqft_above':int, 'sqft_living15':float, 'grade':int, 'yr_renovated':int, 'price':float, 'bedrooms':float, 'zipcode':str, 'long':float, 'sqft_lot15':float, 'sqft_living':float, 'floors':str, 'condition':int, 'lat':float, 'date':str, 'sqft_basement':int, 'yr_built':int, 'id':str, 'sqft_lot':int, 'view':int}\n",
    "\n",
    "# Reading the csv files using panda\n",
    "data_csv = pd.read_csv('kc_house_data.csv',dtype=dtype_dict)\n",
    "train_csv = pd.read_csv('kc_house_train_data.csv',dtype=dtype_dict)\n",
    "test_csv = pd.read_csv('kc_house_test_data.csv',dtype=dtype_dict)\n",
    "\n",
    "# Conversting the csv data to the dataframe and deleting the extra columns which are not relevant\n",
    "\n",
    "house_train = pd.DataFrame(train_csv)\n",
    "train_data = house_train.drop(['price','id','date'],axis=1)\n",
    "house_test = pd.DataFrame(test_csv)\n",
    "test_data  = house_test.drop(['price','id','date'],axis=1)\n"
   ]
  },
  {
   "cell_type": "code",
   "execution_count": null,
   "metadata": {
    "collapsed": true
   },
   "outputs": [],
   "source": []
  }
 ],
 "metadata": {
  "kernelspec": {
   "display_name": "Python 2",
   "language": "python",
   "name": "python2"
  },
  "language_info": {
   "codemirror_mode": {
    "name": "ipython",
    "version": 2
   },
   "file_extension": ".py",
   "mimetype": "text/x-python",
   "name": "python",
   "nbconvert_exporter": "python",
   "pygments_lexer": "ipython2",
   "version": "2.7.11"
  }
 },
 "nbformat": 4,
 "nbformat_minor": 0
}
