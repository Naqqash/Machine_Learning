{
 "cells": [
  {
   "cell_type": "code",
   "execution_count": 23,
   "metadata": {
    "collapsed": true
   },
   "outputs": [],
   "source": [
    "import numpy as np\n",
    "\n"
   ]
  },
  {
   "cell_type": "code",
   "execution_count": 40,
   "metadata": {
    "collapsed": false
   },
   "outputs": [
    {
     "name": "stdout",
     "output_type": "stream",
     "text": [
      "-0.999\n",
      "0.999999\n",
      "0.9999995\n"
     ]
    }
   ],
   "source": [
    "## For L1 \n",
    "\n",
    "val1 = -1.0\n",
    "p1= 999999/1000000.0\n",
    "\n",
    "val2 = 999.0\n",
    "p2 = 1/1000000.0\n",
    "\n",
    "E_L1 = val1*p1 + val2*p2\n",
    "\n",
    "print E_L1\n",
    "\n",
    "\n",
    "var_L1 = ((val1-E_L1)**2)*p1 +  ((val2-E_L1)**2)*p2\n",
    "\n",
    "print var_L1\n",
    "\n",
    "SD_L1 = np.sqrt(var_L1)\n",
    "\n",
    "print SD_L1"
   ]
  },
  {
   "cell_type": "code",
   "execution_count": 41,
   "metadata": {
    "collapsed": false
   },
   "outputs": [
    {
     "name": "stdout",
     "output_type": "stream",
     "text": [
      "0.0\n",
      "999999.0\n",
      "999.9995\n"
     ]
    }
   ],
   "source": [
    "## For L2\n",
    "val1 = -1.0\n",
    "p1= 999999/1000000.0\n",
    "\n",
    "val2 = 999999.0\n",
    "p2 = 1/1000000.0\n",
    "\n",
    "E_L2 = val1*p1 + val2*p2\n",
    "\n",
    "print E_L2\n",
    "\n",
    "\n",
    "var_L2 = ((val1-E_L2)**2)*p1 +  ((val2-E_L2)**2)*p2\n",
    "\n",
    "print var_L2\n",
    "\n",
    "SD_L2 = np.sqrt(var_L2)\n",
    "\n",
    "print SD_L2"
   ]
  },
  {
   "cell_type": "code",
   "execution_count": 42,
   "metadata": {
    "collapsed": false
   },
   "outputs": [
    {
     "name": "stdout",
     "output_type": "stream",
     "text": [
      "0.0\n",
      "9.0\n",
      "3.0\n"
     ]
    }
   ],
   "source": [
    "## For L3\n",
    "val1 = -1.0\n",
    "p1= 9/10.0\n",
    "\n",
    "val2 = 9.0\n",
    "p2 = 1/10.0\n",
    "\n",
    "E_L3 = val1*p1 + val2*p2\n",
    "\n",
    "print E_L3\n",
    "\n",
    "\n",
    "var_L3 = ((val1-E_L3)**2)*p1 +  ((val2-E_L3)**2)*p2\n",
    "\n",
    "print var_L3\n",
    "\n",
    "SD_L3 = np.sqrt(var_L3)\n",
    "\n",
    "print SD_L3"
   ]
  },
  {
   "cell_type": "code",
   "execution_count": null,
   "metadata": {
    "collapsed": true
   },
   "outputs": [],
   "source": []
  }
 ],
 "metadata": {
  "kernelspec": {
   "display_name": "Python 2",
   "language": "python",
   "name": "python2"
  },
  "language_info": {
   "codemirror_mode": {
    "name": "ipython",
    "version": 2
   },
   "file_extension": ".py",
   "mimetype": "text/x-python",
   "name": "python",
   "nbconvert_exporter": "python",
   "pygments_lexer": "ipython2",
   "version": "2.7.12"
  }
 },
 "nbformat": 4,
 "nbformat_minor": 0
}
